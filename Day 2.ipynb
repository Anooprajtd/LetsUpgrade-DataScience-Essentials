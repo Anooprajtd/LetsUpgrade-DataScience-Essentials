{
 "cells": [
  {
   "cell_type": "markdown",
   "metadata": {},
   "source": [
    "##### 1. Create an empty list. Accept 10 numbers from users and append to the list if it is an even number."
   ]
  },
  {
   "cell_type": "code",
   "execution_count": 1,
   "metadata": {},
   "outputs": [
    {
     "name": "stdout",
     "output_type": "stream",
     "text": [
      "Enter 10 Digits \n",
      "11\n",
      "56\n",
      "23\n",
      "44\n",
      "20\n",
      "67\n",
      "23\n",
      "90\n",
      "12\n",
      "25\n",
      "Even numbers :  [56, 44, 20, 90, 12]\n"
     ]
    }
   ],
   "source": [
    "li = []\n",
    "\n",
    "print(\"Enter 10 Digits \")\n",
    "for i in range(10):\n",
    "    num = int(input())\n",
    "    li.append(num)\n",
    "    \n",
    "print(\"Even numbers : \",[i for i in li if i % 2 == 0])"
   ]
  },
  {
   "cell_type": "markdown",
   "metadata": {},
   "source": [
    "##### 2. Create a notebook on List Comprehension."
   ]
  },
  {
   "cell_type": "code",
   "execution_count": 2,
   "metadata": {},
   "outputs": [
    {
     "name": "stdout",
     "output_type": "stream",
     "text": [
      "Odd Numbers from the list: [43, 45, 89, 59, 21]\n"
     ]
    }
   ],
   "source": [
    "li1 = [43,45,89,22,59,21,80,60,34,78] \n",
    "  \n",
    "li2 = [] \n",
    "  \n",
    "# Using loop for constructing output list \n",
    "for var in li1: \n",
    "    if var % 2 != 0: \n",
    "        li2.append(var) \n",
    "  \n",
    "print(\"Odd Numbers from the list:\", li2)"
   ]
  },
  {
   "cell_type": "markdown",
   "metadata": {},
   "source": [
    "##### 3. Given a no n, write a program that generates a dictionary d which contains (i, i*i) where i is from 1 to n (both included)"
   ]
  },
  {
   "cell_type": "code",
   "execution_count": 5,
   "metadata": {},
   "outputs": [
    {
     "name": "stdout",
     "output_type": "stream",
     "text": [
      "Enter a Range: 4\n",
      "{1: 1, 2: 4, 3: 9, 4: 16}\n"
     ]
    }
   ],
   "source": [
    "dict1 = {}\n",
    "num = int(input(\"Enter a Range: \"))\n",
    "\n",
    "output = {i:i*i for i in range(1, num+1)}\n",
    "\n",
    "print(output)"
   ]
  },
  {
   "cell_type": "markdown",
   "metadata": {},
   "source": [
    "##### 4. Write a program to compute the distance between the current position after a sequence of movement and original point. If the distance is a float, then just print the nearest integer (use round() function for that and then convert it into an integer)."
   ]
  },
  {
   "cell_type": "code",
   "execution_count": 3,
   "metadata": {},
   "outputs": [
    {
     "name": "stdout",
     "output_type": "stream",
     "text": [
      "4\n",
      "UP 5\n",
      "DOWN 3\n",
      "LEFT 3\n",
      "RIGHT 2\n",
      "2\n"
     ]
    }
   ],
   "source": [
    "import math\n",
    "\n",
    "num = int(input())\n",
    "direction = [0,0]\n",
    "for i in range(num):\n",
    "    val = input().split(\" \")\n",
    "    if val[0].upper() == \"UP\":\n",
    "        direction[0] += int(val[1])\n",
    "    elif val[0].upper() == \"DOWN\":\n",
    "        direction[0] -= int(val[1])\n",
    "    elif val[1].upper() == \"LEFT\":\n",
    "        direction[1] += int(val[1])\n",
    "    elif val[1].upper() == \"RIGHT\":\n",
    "        direction[1] += int(val[1])\n",
    "print(round(math.sqrt(direction[0]**2 + direction[1]**2)))"
   ]
  }
 ],
 "metadata": {
  "kernelspec": {
   "display_name": "Python 3",
   "language": "python",
   "name": "python3"
  },
  "language_info": {
   "codemirror_mode": {
    "name": "ipython",
    "version": 3
   },
   "file_extension": ".py",
   "mimetype": "text/x-python",
   "name": "python",
   "nbconvert_exporter": "python",
   "pygments_lexer": "ipython3",
   "version": "3.7.4"
  }
 },
 "nbformat": 4,
 "nbformat_minor": 2
}
