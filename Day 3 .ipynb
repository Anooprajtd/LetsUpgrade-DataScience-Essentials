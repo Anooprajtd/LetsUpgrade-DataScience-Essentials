{
 "cells": [
  {
   "cell_type": "markdown",
   "metadata": {},
   "source": [
    "##### 1. Create a numpy array starting from 2 till 50 with a stepsize of 3"
   ]
  },
  {
   "cell_type": "code",
   "execution_count": 1,
   "metadata": {},
   "outputs": [
    {
     "name": "stdout",
     "output_type": "stream",
     "text": [
      "[ 2  5  8 11 14 17 20 23 26 29 32 35 38 41 44 47 50]\n"
     ]
    }
   ],
   "source": [
    "import numpy as np\n",
    "arr = np.arange(2,51,3)\n",
    "print(arr)"
   ]
  },
  {
   "cell_type": "markdown",
   "metadata": {},
   "source": [
    "##### 2. Accept two lists of 5 elements each from the user. Convert them to numpy arrays. Concatenate these arrays and print it. Also sort these arrays and print it."
   ]
  },
  {
   "cell_type": "code",
   "execution_count": 6,
   "metadata": {},
   "outputs": [
    {
     "name": "stdout",
     "output_type": "stream",
     "text": [
      "3\n",
      "6\n",
      "12\n",
      "2\n",
      "89\n",
      "List1:  [3, 6, 12, 2, 89]\n",
      "56\n",
      "23\n",
      "1\n",
      "6\n",
      "3\n",
      "List2:  [56, 23, 1, 6, 3]\n",
      "Concatenated Array:  [ 3  6 12  2 89 56 23  1  6  3]\n",
      "Sorted Array:  [ 1  2  3  3  6  6 12 23 56 89]\n"
     ]
    }
   ],
   "source": [
    "list1 = []\n",
    "list2 = []\n",
    "\n",
    "for i in range(5):\n",
    "    n = int(input())\n",
    "    list1.append(n)\n",
    "print(\"List1: \",list1)    \n",
    "\n",
    "for y in range(5):\n",
    "    n = int(input())\n",
    "    list2.append(n)\n",
    "print(\"List2: \",list2)  \n",
    "\n",
    "array1 = np.array(list1)\n",
    "array2 = np.array(list2)\n",
    "list3 = np.concatenate((array1, array2))\n",
    "print(\"Concatenated Array: \", list3)\n",
    "list4 = np.sort(list3)\n",
    "print(\"Sorted Array: \", list4)"
   ]
  },
  {
   "cell_type": "markdown",
   "metadata": {},
   "source": [
    "##### 3. Write a code snippet to find the dimensions of a ndarray and its size."
   ]
  },
  {
   "cell_type": "code",
   "execution_count": 13,
   "metadata": {},
   "outputs": [
    {
     "name": "stdout",
     "output_type": "stream",
     "text": [
      "Array:  [ 5  7  9 11 13 15 17 19]\n",
      "Dimension:  1\n",
      "Size:  8\n"
     ]
    }
   ],
   "source": [
    "array1 = np.arange(5,20,2)\n",
    "print(\"Array: \",array1)\n",
    "print(\"Dimension: \",array1.ndim)\n",
    "print(\"Size: \",array1.size)"
   ]
  },
  {
   "cell_type": "markdown",
   "metadata": {},
   "source": [
    "##### 4. How to convert a 1D array into a 2D array? Demonstrate with the help of a code snippet"
   ]
  },
  {
   "cell_type": "code",
   "execution_count": 19,
   "metadata": {},
   "outputs": [
    {
     "name": "stdout",
     "output_type": "stream",
     "text": [
      "2D Array: \n",
      " [[21 54]\n",
      " [78  0]]\n"
     ]
    }
   ],
   "source": [
    "array1 = ([21,54,78,0])\n",
    "array2 = np.reshape(array1, (2,2))\n",
    "print(\"2D Array: \\n\",array2)"
   ]
  },
  {
   "cell_type": "markdown",
   "metadata": {},
   "source": [
    "##### 5.Consider two square numpy arrays. Stack them vertically and horizontally."
   ]
  },
  {
   "cell_type": "code",
   "execution_count": 23,
   "metadata": {},
   "outputs": [
    {
     "name": "stdout",
     "output_type": "stream",
     "text": [
      "Vertical :\n",
      " [[12 34]\n",
      " [56 76]\n",
      " [20 40]\n",
      " [60 80]]\n",
      "\n",
      "Horizontal :\n",
      " [[12 34 20 40]\n",
      " [56 76 60 80]]\n"
     ]
    }
   ],
   "source": [
    "array1 = np.array([[12,34],[56,76]])\n",
    "array2 = np.array([[20,40],[60,80]])\n",
    "vertical = np.vstack((array1,array2))\n",
    "horizontal = np.hstack((array1,array2))\n",
    "print(\"Vertical :\\n\",vertical)\n",
    "print(\"\\nHorizontal :\\n\",horizontal)"
   ]
  },
  {
   "cell_type": "markdown",
   "metadata": {},
   "source": [
    "##### 6. How to get unique items and counts of unique items?"
   ]
  },
  {
   "cell_type": "code",
   "execution_count": 28,
   "metadata": {},
   "outputs": [
    {
     "name": "stdout",
     "output_type": "stream",
     "text": [
      "[[1 3]\n",
      " [2 1]\n",
      " [3 2]\n",
      " [4 1]\n",
      " [5 1]]\n"
     ]
    }
   ],
   "source": [
    "array1 = np.array([1,2,1,3,5,3,4,1])\n",
    "\n",
    "(unique, counts) = np.unique(array1, return_counts=True)\n",
    "frequencies = np.asarray((unique, counts)).T\n",
    "\n",
    "print(frequencies)"
   ]
  }
 ],
 "metadata": {
  "kernelspec": {
   "display_name": "Python 3",
   "language": "python",
   "name": "python3"
  },
  "language_info": {
   "codemirror_mode": {
    "name": "ipython",
    "version": 3
   },
   "file_extension": ".py",
   "mimetype": "text/x-python",
   "name": "python",
   "nbconvert_exporter": "python",
   "pygments_lexer": "ipython3",
   "version": "3.7.4"
  }
 },
 "nbformat": 4,
 "nbformat_minor": 2
}
